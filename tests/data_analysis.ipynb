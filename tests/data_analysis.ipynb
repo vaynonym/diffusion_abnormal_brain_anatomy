{
 "cells": [
  {
   "cell_type": "code",
   "execution_count": 1,
   "metadata": {},
   "outputs": [],
   "source": [
    "import nibabel as nib"
   ]
  },
  {
   "cell_type": "code",
   "execution_count": 9,
   "metadata": {},
   "outputs": [
    {
     "data": {
      "text/plain": [
       "((1.0, 1.0, 1.0), (160, 224, 160))"
      ]
     },
     "execution_count": 9,
     "metadata": {},
     "output_type": "execute_result"
    }
   ],
   "source": [
    "img = nib.load('/homes/tim/thesis/own_experiments/data/LDM_100k/rawdata/sub-000000/anat/sub-000000_T1w.nii.gz')\n",
    "img.header.get_zooms(), img.shape"
   ]
  },
  {
   "attachments": {},
   "cell_type": "markdown",
   "metadata": {},
   "source": [
    "How many combinations zoom levels and image shapes exist in the data"
   ]
  },
  {
   "cell_type": "code",
   "execution_count": 10,
   "metadata": {},
   "outputs": [
    {
     "data": {
      "text/plain": [
       "((0.41015625, 0.41015625, 6.0), (512, 512, 27))"
      ]
     },
     "execution_count": 10,
     "metadata": {},
     "output_type": "execute_result"
    }
   ],
   "source": [
    "img_MS = nib.load('/homes/claes/data_shared/AIMS/nii/5739/20150924/FLAIR.nii.gz')\n",
    "img_MS.header.get_zooms(), img_MS.shape\n",
    "\n",
    "#img_MS = nib.load('/homes/claes/data_shared/AIMS/nii/5739/20150924/FLAIR_synthseg.nii.gz')\n",
    "#img_MS.header.get_zooms()"
   ]
  }
 ],
 "metadata": {
  "kernelspec": {
   "display_name": "thesis",
   "language": "python",
   "name": "python3"
  },
  "language_info": {
   "codemirror_mode": {
    "name": "ipython",
    "version": 3
   },
   "file_extension": ".py",
   "mimetype": "text/x-python",
   "name": "python",
   "nbconvert_exporter": "python",
   "pygments_lexer": "ipython3",
   "version": "3.8.18 (default, Sep 11 2023, 13:40:15) \n[GCC 11.2.0]"
  },
  "orig_nbformat": 4,
  "vscode": {
   "interpreter": {
    "hash": "04e7637687b03014d930ed6b0ff6ebc057bcd8239d05018dfd18e91aedcdc751"
   }
  }
 },
 "nbformat": 4,
 "nbformat_minor": 2
}
