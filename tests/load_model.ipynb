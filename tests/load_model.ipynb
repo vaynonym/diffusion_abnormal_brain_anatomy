{
 "cells": [
  {
   "cell_type": "code",
   "execution_count": 1,
   "metadata": {},
   "outputs": [
    {
     "name": "stderr",
     "output_type": "stream",
     "text": [
      "/homes/tim/miniconda3/envs/thesis/lib/python3.8/site-packages/tqdm/auto.py:21: TqdmWarning: IProgress not found. Please update jupyter and ipywidgets. See https://ipywidgets.readthedocs.io/en/stable/user_install.html\n",
      "  from .autonotebook import tqdm as notebook_tqdm\n"
     ]
    }
   ],
   "source": [
    "import torch\n",
    "from src.model_util import load_model, save_model\n",
    "from generative.networks.nets import AutoencoderKL, DiffusionModelUNet, PatchDiscriminator\n",
    "import os.path\n",
    "\n",
    "base_directory =\"/homes/tim/thesis/own_experiments\"\n",
    "model_directory = os.path.join(base_directory, \"models\")\n",
    "\n",
    "auto_encoder_config= {\n",
    "    \"spatial_dims\":3,\n",
    "    \"in_channels\":1,\n",
    "    \"out_channels\":1,\n",
    "    \"latent_channels\":3,\n",
    "    \"num_channels\":(32, 64, 64),\n",
    "    \"num_res_blocks\":1,\n",
    "    \"norm_num_groups\":16,\n",
    "    \"attention_levels\":(False, False, True),\n",
    "}\n",
    "\n",
    "autoencoder = AutoencoderKL(\n",
    "    **auto_encoder_config\n",
    ")\n",
    "\n",
    "save_model(autoencoder, os.path.join(model_directory, \"autoencoderKL.pth\"))\n",
    "load_model(autoencoder, os.path.join(model_directory, \"autoencoderKL.pth\"))"
   ]
  },
  {
   "cell_type": "code",
   "execution_count": 2,
   "metadata": {},
   "outputs": [
    {
     "name": "stdout",
     "output_type": "stream",
     "text": [
      "Found 8 runs with matching config, using most recent run dancing-dumpling-66\n"
     ]
    }
   ],
   "source": [
    "import wandb\n",
    "\n",
    "from src.util import load_wand_credentials\n",
    "from src.model_util import load_model_from_run_with_matching_config\n",
    "\n",
    "project, entity = load_wand_credentials()\n",
    "\n",
    "\n",
    "\n",
    "model_weights = load_model_from_run_with_matching_config([auto_encoder_config], [\"auto_encoder_config\"], project, entity, autoencoder, \"autoencoderKL\", \"../models/temp/\")\n",
    "\n"
   ]
  }
 ],
 "metadata": {
  "kernelspec": {
   "display_name": "thesis",
   "language": "python",
   "name": "python3"
  },
  "language_info": {
   "codemirror_mode": {
    "name": "ipython",
    "version": 3
   },
   "file_extension": ".py",
   "mimetype": "text/x-python",
   "name": "python",
   "nbconvert_exporter": "python",
   "pygments_lexer": "ipython3",
   "version": "3.8.18"
  },
  "orig_nbformat": 4,
  "vscode": {
   "interpreter": {
    "hash": "04e7637687b03014d930ed6b0ff6ebc057bcd8239d05018dfd18e91aedcdc751"
   }
  }
 },
 "nbformat": 4,
 "nbformat_minor": 2
}
